{
 "cells": [
  {
   "cell_type": "markdown",
   "metadata": {},
   "source": [
    "### Recommender system algorithm on MovieLens Dataset:"
   ]
  },
  {
   "cell_type": "markdown",
   "metadata": {},
   "source": [
    "Finding similarity data point:\n",
    "1) Euclidean distance score\n",
    "2) pearson correlation score"
   ]
  },
  {
   "cell_type": "code",
   "execution_count": 4,
   "metadata": {
    "collapsed": true
   },
   "outputs": [],
   "source": [
    "#step1: importing packages\n",
    "from math import sqrt\n",
    "import pandas as pd\n",
    "import numpy as np\n",
    "from matplotlib import pyplot as plt\n",
    "\n",
    "#step2: getting more than one output line\n",
    "from IPython.core.interactiveshell import InteractiveShell\n",
    "InteractiveShell.ast_node_interactivity='all'"
   ]
  },
  {
   "cell_type": "code",
   "execution_count": 5,
   "metadata": {},
   "outputs": [
    {
     "data": {
      "text/html": [
       "<div>\n",
       "<style scoped>\n",
       "    .dataframe tbody tr th:only-of-type {\n",
       "        vertical-align: middle;\n",
       "    }\n",
       "\n",
       "    .dataframe tbody tr th {\n",
       "        vertical-align: top;\n",
       "    }\n",
       "\n",
       "    .dataframe thead th {\n",
       "        text-align: right;\n",
       "    }\n",
       "</style>\n",
       "<table border=\"1\" class=\"dataframe\">\n",
       "  <thead>\n",
       "    <tr style=\"text-align: right;\">\n",
       "      <th></th>\n",
       "      <th>movieId</th>\n",
       "      <th>title</th>\n",
       "      <th>genres</th>\n",
       "    </tr>\n",
       "  </thead>\n",
       "  <tbody>\n",
       "    <tr>\n",
       "      <th>0</th>\n",
       "      <td>1</td>\n",
       "      <td>Toy Story (1995)</td>\n",
       "      <td>Adventure|Animation|Children|Comedy|Fantasy</td>\n",
       "    </tr>\n",
       "    <tr>\n",
       "      <th>1</th>\n",
       "      <td>2</td>\n",
       "      <td>Jumanji (1995)</td>\n",
       "      <td>Adventure|Children|Fantasy</td>\n",
       "    </tr>\n",
       "    <tr>\n",
       "      <th>2</th>\n",
       "      <td>3</td>\n",
       "      <td>Grumpier Old Men (1995)</td>\n",
       "      <td>Comedy|Romance</td>\n",
       "    </tr>\n",
       "    <tr>\n",
       "      <th>3</th>\n",
       "      <td>4</td>\n",
       "      <td>Waiting to Exhale (1995)</td>\n",
       "      <td>Comedy|Drama|Romance</td>\n",
       "    </tr>\n",
       "    <tr>\n",
       "      <th>4</th>\n",
       "      <td>5</td>\n",
       "      <td>Father of the Bride Part II (1995)</td>\n",
       "      <td>Comedy</td>\n",
       "    </tr>\n",
       "  </tbody>\n",
       "</table>\n",
       "</div>"
      ],
      "text/plain": [
       "   movieId                               title  \\\n",
       "0        1                    Toy Story (1995)   \n",
       "1        2                      Jumanji (1995)   \n",
       "2        3             Grumpier Old Men (1995)   \n",
       "3        4            Waiting to Exhale (1995)   \n",
       "4        5  Father of the Bride Part II (1995)   \n",
       "\n",
       "                                        genres  \n",
       "0  Adventure|Animation|Children|Comedy|Fantasy  \n",
       "1                   Adventure|Children|Fantasy  \n",
       "2                               Comedy|Romance  \n",
       "3                         Comedy|Drama|Romance  \n",
       "4                                       Comedy  "
      ]
     },
     "execution_count": 5,
     "metadata": {},
     "output_type": "execute_result"
    }
   ],
   "source": [
    "#step3: loading the dataset using pandas packages and review some of them\n",
    "movies=pd.read_csv('movies.csv')\n",
    "movies.head()"
   ]
  },
  {
   "cell_type": "code",
   "execution_count": 6,
   "metadata": {},
   "outputs": [
    {
     "data": {
      "text/html": [
       "<div>\n",
       "<style scoped>\n",
       "    .dataframe tbody tr th:only-of-type {\n",
       "        vertical-align: middle;\n",
       "    }\n",
       "\n",
       "    .dataframe tbody tr th {\n",
       "        vertical-align: top;\n",
       "    }\n",
       "\n",
       "    .dataframe thead th {\n",
       "        text-align: right;\n",
       "    }\n",
       "</style>\n",
       "<table border=\"1\" class=\"dataframe\">\n",
       "  <thead>\n",
       "    <tr style=\"text-align: right;\">\n",
       "      <th></th>\n",
       "      <th>userId</th>\n",
       "      <th>movieId</th>\n",
       "      <th>rating</th>\n",
       "      <th>timestamp</th>\n",
       "    </tr>\n",
       "  </thead>\n",
       "  <tbody>\n",
       "    <tr>\n",
       "      <th>0</th>\n",
       "      <td>1</td>\n",
       "      <td>31</td>\n",
       "      <td>2.5</td>\n",
       "      <td>1260759144</td>\n",
       "    </tr>\n",
       "    <tr>\n",
       "      <th>1</th>\n",
       "      <td>1</td>\n",
       "      <td>1029</td>\n",
       "      <td>3.0</td>\n",
       "      <td>1260759179</td>\n",
       "    </tr>\n",
       "    <tr>\n",
       "      <th>2</th>\n",
       "      <td>1</td>\n",
       "      <td>1061</td>\n",
       "      <td>3.0</td>\n",
       "      <td>1260759182</td>\n",
       "    </tr>\n",
       "    <tr>\n",
       "      <th>3</th>\n",
       "      <td>1</td>\n",
       "      <td>1129</td>\n",
       "      <td>2.0</td>\n",
       "      <td>1260759185</td>\n",
       "    </tr>\n",
       "    <tr>\n",
       "      <th>4</th>\n",
       "      <td>1</td>\n",
       "      <td>1172</td>\n",
       "      <td>4.0</td>\n",
       "      <td>1260759205</td>\n",
       "    </tr>\n",
       "  </tbody>\n",
       "</table>\n",
       "</div>"
      ],
      "text/plain": [
       "   userId  movieId  rating   timestamp\n",
       "0       1       31     2.5  1260759144\n",
       "1       1     1029     3.0  1260759179\n",
       "2       1     1061     3.0  1260759182\n",
       "3       1     1129     2.0  1260759185\n",
       "4       1     1172     4.0  1260759205"
      ]
     },
     "execution_count": 6,
     "metadata": {},
     "output_type": "execute_result"
    }
   ],
   "source": [
    "ratings=pd.read_csv('ratings.csv')\n",
    "ratings.head()"
   ]
  },
  {
   "cell_type": "code",
   "execution_count": 7,
   "metadata": {},
   "outputs": [
    {
     "data": {
      "text/html": [
       "<div>\n",
       "<style scoped>\n",
       "    .dataframe tbody tr th:only-of-type {\n",
       "        vertical-align: middle;\n",
       "    }\n",
       "\n",
       "    .dataframe tbody tr th {\n",
       "        vertical-align: top;\n",
       "    }\n",
       "\n",
       "    .dataframe thead th {\n",
       "        text-align: right;\n",
       "    }\n",
       "</style>\n",
       "<table border=\"1\" class=\"dataframe\">\n",
       "  <thead>\n",
       "    <tr style=\"text-align: right;\">\n",
       "      <th></th>\n",
       "      <th>userId</th>\n",
       "      <th>movieId</th>\n",
       "      <th>tag</th>\n",
       "      <th>timestamp</th>\n",
       "    </tr>\n",
       "  </thead>\n",
       "  <tbody>\n",
       "    <tr>\n",
       "      <th>0</th>\n",
       "      <td>15</td>\n",
       "      <td>339</td>\n",
       "      <td>sandra 'boring' bullock</td>\n",
       "      <td>1138537770</td>\n",
       "    </tr>\n",
       "    <tr>\n",
       "      <th>1</th>\n",
       "      <td>15</td>\n",
       "      <td>1955</td>\n",
       "      <td>dentist</td>\n",
       "      <td>1193435061</td>\n",
       "    </tr>\n",
       "    <tr>\n",
       "      <th>2</th>\n",
       "      <td>15</td>\n",
       "      <td>7478</td>\n",
       "      <td>Cambodia</td>\n",
       "      <td>1170560997</td>\n",
       "    </tr>\n",
       "    <tr>\n",
       "      <th>3</th>\n",
       "      <td>15</td>\n",
       "      <td>32892</td>\n",
       "      <td>Russian</td>\n",
       "      <td>1170626366</td>\n",
       "    </tr>\n",
       "    <tr>\n",
       "      <th>4</th>\n",
       "      <td>15</td>\n",
       "      <td>34162</td>\n",
       "      <td>forgettable</td>\n",
       "      <td>1141391765</td>\n",
       "    </tr>\n",
       "  </tbody>\n",
       "</table>\n",
       "</div>"
      ],
      "text/plain": [
       "   userId  movieId                      tag   timestamp\n",
       "0      15      339  sandra 'boring' bullock  1138537770\n",
       "1      15     1955                  dentist  1193435061\n",
       "2      15     7478                 Cambodia  1170560997\n",
       "3      15    32892                  Russian  1170626366\n",
       "4      15    34162              forgettable  1141391765"
      ]
     },
     "execution_count": 7,
     "metadata": {},
     "output_type": "execute_result"
    }
   ],
   "source": [
    "tags=pd.read_csv('tags.csv')\n",
    "tags.head()"
   ]
  },
  {
   "cell_type": "code",
   "execution_count": 8,
   "metadata": {
    "collapsed": true
   },
   "outputs": [],
   "source": [
    "#step4: deleting the timestamp colums(unnecessary)\n",
    "del tags['timestamp']"
   ]
  },
  {
   "cell_type": "code",
   "execution_count": 9,
   "metadata": {},
   "outputs": [
    {
     "data": {
      "text/html": [
       "<div>\n",
       "<style scoped>\n",
       "    .dataframe tbody tr th:only-of-type {\n",
       "        vertical-align: middle;\n",
       "    }\n",
       "\n",
       "    .dataframe tbody tr th {\n",
       "        vertical-align: top;\n",
       "    }\n",
       "\n",
       "    .dataframe thead th {\n",
       "        text-align: right;\n",
       "    }\n",
       "</style>\n",
       "<table border=\"1\" class=\"dataframe\">\n",
       "  <thead>\n",
       "    <tr style=\"text-align: right;\">\n",
       "      <th></th>\n",
       "      <th>userId</th>\n",
       "      <th>movieId</th>\n",
       "      <th>tag</th>\n",
       "    </tr>\n",
       "  </thead>\n",
       "  <tbody>\n",
       "    <tr>\n",
       "      <th>0</th>\n",
       "      <td>15</td>\n",
       "      <td>339</td>\n",
       "      <td>sandra 'boring' bullock</td>\n",
       "    </tr>\n",
       "    <tr>\n",
       "      <th>1</th>\n",
       "      <td>15</td>\n",
       "      <td>1955</td>\n",
       "      <td>dentist</td>\n",
       "    </tr>\n",
       "    <tr>\n",
       "      <th>2</th>\n",
       "      <td>15</td>\n",
       "      <td>7478</td>\n",
       "      <td>Cambodia</td>\n",
       "    </tr>\n",
       "    <tr>\n",
       "      <th>3</th>\n",
       "      <td>15</td>\n",
       "      <td>32892</td>\n",
       "      <td>Russian</td>\n",
       "    </tr>\n",
       "    <tr>\n",
       "      <th>4</th>\n",
       "      <td>15</td>\n",
       "      <td>34162</td>\n",
       "      <td>forgettable</td>\n",
       "    </tr>\n",
       "  </tbody>\n",
       "</table>\n",
       "</div>"
      ],
      "text/plain": [
       "   userId  movieId                      tag\n",
       "0      15      339  sandra 'boring' bullock\n",
       "1      15     1955                  dentist\n",
       "2      15     7478                 Cambodia\n",
       "3      15    32892                  Russian\n",
       "4      15    34162              forgettable"
      ]
     },
     "execution_count": 9,
     "metadata": {},
     "output_type": "execute_result"
    }
   ],
   "source": [
    "tags.head()"
   ]
  },
  {
   "cell_type": "code",
   "execution_count": 10,
   "metadata": {},
   "outputs": [
    {
     "name": "stdout",
     "output_type": "stream",
     "text": [
      "<class 'pandas.core.frame.DataFrame'>\n",
      "RangeIndex: 9125 entries, 0 to 9124\n",
      "Data columns (total 3 columns):\n",
      "movieId    9125 non-null int64\n",
      "title      9125 non-null object\n",
      "genres     9125 non-null object\n",
      "dtypes: int64(1), object(2)\n",
      "memory usage: 213.9+ KB\n"
     ]
    }
   ],
   "source": [
    "#step5: get 'descriptive stastistics' on movies dataset\n",
    "movies.info()"
   ]
  },
  {
   "cell_type": "code",
   "execution_count": 11,
   "metadata": {},
   "outputs": [
    {
     "data": {
      "text/plain": [
       "count    100004.000000\n",
       "mean          3.543608\n",
       "std           1.058064\n",
       "min           0.500000\n",
       "25%           3.000000\n",
       "50%           4.000000\n",
       "75%           4.000000\n",
       "max           5.000000\n",
       "Name: rating, dtype: float64"
      ]
     },
     "execution_count": 11,
     "metadata": {},
     "output_type": "execute_result"
    }
   ],
   "source": [
    "ratings['rating'].describe(include='all')"
   ]
  },
  {
   "cell_type": "code",
   "execution_count": 12,
   "metadata": {},
   "outputs": [
    {
     "data": {
      "text/plain": [
       "rating\n",
       "0.5     868\n",
       "1.0    1959\n",
       "1.5    1204\n",
       "2.0    3130\n",
       "2.5    2409\n",
       "3.0    4771\n",
       "3.5    3612\n",
       "4.0    5141\n",
       "4.5    2454\n",
       "5.0    3127\n",
       "Name: movieId, dtype: int64"
      ]
     },
     "execution_count": 12,
     "metadata": {},
     "output_type": "execute_result"
    },
    {
     "data": {
      "text/plain": [
       "array([[<matplotlib.axes._subplots.AxesSubplot object at 0x0000024D6C378358>]],\n",
       "      dtype=object)"
      ]
     },
     "execution_count": 12,
     "metadata": {},
     "output_type": "execute_result"
    },
    {
     "data": {
      "image/png": "[encoded data removed]",
      "text/plain": [
       "<matplotlib.figure.Figure at 0x24d6c3586a0>"
      ]
     },
     "metadata": {},
     "output_type": "display_data"
    }
   ],
   "source": [
    "#Group users rating and movie id in a single table and plot a histogram\n",
    "ratings.groupby('rating')['movieId'].nunique()\n",
    "%matplotlib inline\n",
    "ratings.hist(column='rating', figsize=(10,10), bins=20, grid=False)"
   ]
  },
  {
   "cell_type": "code",
   "execution_count": 13,
   "metadata": {},
   "outputs": [
    {
     "data": {
      "text/plain": [
       "getdvd       33\n",
       "Ei muista    29\n",
       "tivo         26\n",
       "toplist07    26\n",
       "toplist12    20\n",
       "toplist11    20\n",
       "tcm          20\n",
       "toplist08    19\n",
       "toplist15    19\n",
       "toplist10    18\n",
       "toplist14    18\n",
       "toplist09    18\n",
       "toplist06    16\n",
       "holes00s     16\n",
       "holes70s     16\n",
       "Name: tag, dtype: int64"
      ]
     },
     "execution_count": 13,
     "metadata": {},
     "output_type": "execute_result"
    },
    {
     "data": {
      "text/plain": [
       "<matplotlib.axes._subplots.AxesSubplot at 0x24d6c358320>"
      ]
     },
     "execution_count": 13,
     "metadata": {},
     "output_type": "execute_result"
    },
    {
     "data": {
      "image/png": "[encoded data removed]",
      "text/plain": [
       "<matplotlib.figure.Figure at 0x24d6a2567b8>"
      ]
     },
     "metadata": {},
     "output_type": "display_data"
    }
   ],
   "source": [
    "tag_counts=tags['tag'].value_counts()\n",
    "tag_counts[:15]\n",
    "tag_counts[:15].plot(kind='bar', figsize=(10, 10))"
   ]
  },
  {
   "cell_type": "code",
   "execution_count": 14,
   "metadata": {},
   "outputs": [
    {
     "data": {
      "text/plain": [
       "9125"
      ]
     },
     "execution_count": 14,
     "metadata": {},
     "output_type": "execute_result"
    }
   ],
   "source": [
    "movies['movieId'].count()"
   ]
  },
  {
   "cell_type": "code",
   "execution_count": 15,
   "metadata": {
    "collapsed": true
   },
   "outputs": [],
   "source": [
    "#step7: removing NaN values\n",
    "genre_filter=(movies['genres']=='(no genres listed)')\n",
    "movies=movies[~genre_filter]\n",
    "movies=movies.reset_index(drop=True)"
   ]
  },
  {
   "cell_type": "code",
   "execution_count": 16,
   "metadata": {},
   "outputs": [
    {
     "data": {
      "text/plain": [
       "{'Action': 1545,\n",
       " 'Adventure': 1117,\n",
       " 'Animation': 447,\n",
       " 'Children': 583,\n",
       " 'Comedy': 3315,\n",
       " 'Crime': 1100,\n",
       " 'Documentary': 495,\n",
       " 'Drama': 4365,\n",
       " 'Fantasy': 654,\n",
       " 'Film-Noir': 133,\n",
       " 'Horror': 877,\n",
       " 'IMAX': 153,\n",
       " 'Musical': 394,\n",
       " 'Mystery': 543,\n",
       " 'Romance': 1545,\n",
       " 'Sci-Fi': 792,\n",
       " 'Thriller': 1729,\n",
       " 'War': 367,\n",
       " 'Western': 168}"
      ]
     },
     "execution_count": 16,
     "metadata": {},
     "output_type": "execute_result"
    }
   ],
   "source": [
    "#step8: Checking Total genres present in DataSet\n",
    "genres_count={}\n",
    "for row in range(movies['movieId'].count()):\n",
    "    for genre in movies['genres'][row].split(\"|\"):\n",
    "        if(genre !=''):\n",
    "            genres_count[genre]=genres_count.get(genre, 0) + 1\n",
    "genres_count"
   ]
  },
  {
   "cell_type": "code",
   "execution_count": 17,
   "metadata": {},
   "outputs": [
    {
     "data": {
      "text/plain": [
       "<Container object of 19 artists>"
      ]
     },
     "execution_count": 17,
     "metadata": {},
     "output_type": "execute_result"
    },
    {
     "data": {
      "text/plain": [
       "([<matplotlib.axis.YTick at 0x24d596fe898>,\n",
       "  <matplotlib.axis.YTick at 0x24d6c51c550>,\n",
       "  <matplotlib.axis.YTick at 0x24d6c5b7eb8>,\n",
       "  <matplotlib.axis.YTick at 0x24d6c8645c0>,\n",
       "  <matplotlib.axis.YTick at 0x24d6c864c18>,\n",
       "  <matplotlib.axis.YTick at 0x24d6c86d2b0>,\n",
       "  <matplotlib.axis.YTick at 0x24d6c86d940>,\n",
       "  <matplotlib.axis.YTick at 0x24d6c86dfd0>,\n",
       "  <matplotlib.axis.YTick at 0x24d6c8736a0>,\n",
       "  <matplotlib.axis.YTick at 0x24d6c873d30>,\n",
       "  <matplotlib.axis.YTick at 0x24d6c878400>,\n",
       "  <matplotlib.axis.YTick at 0x24d6c878a90>,\n",
       "  <matplotlib.axis.YTick at 0x24d6c87d160>,\n",
       "  <matplotlib.axis.YTick at 0x24d6c87d7f0>,\n",
       "  <matplotlib.axis.YTick at 0x24d6c87de80>,\n",
       "  <matplotlib.axis.YTick at 0x24d6c885550>,\n",
       "  <matplotlib.axis.YTick at 0x24d6c885be0>,\n",
       "  <matplotlib.axis.YTick at 0x24d6c88b2b0>,\n",
       "  <matplotlib.axis.YTick at 0x24d6c88b940>],\n",
       " <a list of 19 Text yticklabel objects>)"
      ]
     },
     "execution_count": 17,
     "metadata": {},
     "output_type": "execute_result"
    },
    {
     "data": {
      "text/plain": [
       "Text(0.5,0,'Movie Count')"
      ]
     },
     "execution_count": 17,
     "metadata": {},
     "output_type": "execute_result"
    },
    {
     "data": {
      "text/plain": [
       "Text(0.5,1,'Genre Popularity')"
      ]
     },
     "execution_count": 17,
     "metadata": {},
     "output_type": "execute_result"
    },
    {
     "data": {
      "text/plain": [
       "Text(1137,0.1,'1117')"
      ]
     },
     "execution_count": 17,
     "metadata": {},
     "output_type": "execute_result"
    },
    {
     "data": {
      "text/plain": [
       "Text(467,1.1,'447')"
      ]
     },
     "execution_count": 17,
     "metadata": {},
     "output_type": "execute_result"
    },
    {
     "data": {
      "text/plain": [
       "Text(603,2.1,'583')"
      ]
     },
     "execution_count": 17,
     "metadata": {},
     "output_type": "execute_result"
    },
    {
     "data": {
      "text/plain": [
       "Text(3335,3.1,'3315')"
      ]
     },
     "execution_count": 17,
     "metadata": {},
     "output_type": "execute_result"
    },
    {
     "data": {
      "text/plain": [
       "Text(674,4.1,'654')"
      ]
     },
     "execution_count": 17,
     "metadata": {},
     "output_type": "execute_result"
    },
    {
     "data": {
      "text/plain": [
       "Text(1565,5.1,'1545')"
      ]
     },
     "execution_count": 17,
     "metadata": {},
     "output_type": "execute_result"
    },
    {
     "data": {
      "text/plain": [
       "Text(4385,6.1,'4365')"
      ]
     },
     "execution_count": 17,
     "metadata": {},
     "output_type": "execute_result"
    },
    {
     "data": {
      "text/plain": [
       "Text(1565,7.1,'1545')"
      ]
     },
     "execution_count": 17,
     "metadata": {},
     "output_type": "execute_result"
    },
    {
     "data": {
      "text/plain": [
       "Text(1120,8.1,'1100')"
      ]
     },
     "execution_count": 17,
     "metadata": {},
     "output_type": "execute_result"
    },
    {
     "data": {
      "text/plain": [
       "Text(1749,9.1,'1729')"
      ]
     },
     "execution_count": 17,
     "metadata": {},
     "output_type": "execute_result"
    },
    {
     "data": {
      "text/plain": [
       "Text(897,10.1,'877')"
      ]
     },
     "execution_count": 17,
     "metadata": {},
     "output_type": "execute_result"
    },
    {
     "data": {
      "text/plain": [
       "Text(563,11.1,'543')"
      ]
     },
     "execution_count": 17,
     "metadata": {},
     "output_type": "execute_result"
    },
    {
     "data": {
      "text/plain": [
       "Text(812,12.1,'792')"
      ]
     },
     "execution_count": 17,
     "metadata": {},
     "output_type": "execute_result"
    },
    {
     "data": {
      "text/plain": [
       "Text(515,13.1,'495')"
      ]
     },
     "execution_count": 17,
     "metadata": {},
     "output_type": "execute_result"
    },
    {
     "data": {
      "text/plain": [
       "Text(173,14.1,'153')"
      ]
     },
     "execution_count": 17,
     "metadata": {},
     "output_type": "execute_result"
    },
    {
     "data": {
      "text/plain": [
       "Text(387,15.1,'367')"
      ]
     },
     "execution_count": 17,
     "metadata": {},
     "output_type": "execute_result"
    },
    {
     "data": {
      "text/plain": [
       "Text(414,16.1,'394')"
      ]
     },
     "execution_count": 17,
     "metadata": {},
     "output_type": "execute_result"
    },
    {
     "data": {
      "text/plain": [
       "Text(188,17.1,'168')"
      ]
     },
     "execution_count": 17,
     "metadata": {},
     "output_type": "execute_result"
    },
    {
     "data": {
      "text/plain": [
       "Text(153,18.1,'133')"
      ]
     },
     "execution_count": 17,
     "metadata": {},
     "output_type": "execute_result"
    },
    {
     "data": {
      "image/png": "[encoded data removed]",
      "text/plain": [
       "<matplotlib.figure.Figure at 0x24d6c40ec88>"
      ]
     },
     "metadata": {},
     "output_type": "display_data"
    }
   ],
   "source": [
    "fig, ax=plt.subplots(figsize=(15, 10))\n",
    "plt.barh(range(len(genres_count)), list(genres_count.values()))\n",
    "plt.yticks(range(len(genres_count)), list(genres_count.keys()))\n",
    "plt.xlabel('Movie Count')\n",
    "plt.title('Genre Popularity')\n",
    "\n",
    "for i, v in enumerate(genres_count.values()):\n",
    "    ax.text(v  + 20, i + .10, v, color='red', fontweight='bold')"
   ]
  },
  {
   "cell_type": "code",
   "execution_count": 20,
   "metadata": {},
   "outputs": [
    {
     "data": {
      "text/plain": [
       "1.0"
      ]
     },
     "execution_count": 20,
     "metadata": {},
     "output_type": "execute_result"
    }
   ],
   "source": [
    "#step9: Euclidean Distance Score\n",
    "def euclidean_distance(person1, person2):\n",
    "    #getting details of person1 and person2\n",
    "    df_first=ratings.loc[ratings['userId']==person1]\n",
    "    df_second=ratings.loc[ratings.userId==person2]\n",
    "    \n",
    "    #find similar movie\n",
    "    df= pd.merge(df_first, df_second, how='inner', on='movieId')\n",
    "    if (len(df)==0): \n",
    "        return 0\n",
    "    \n",
    "    #sum of squared difference between ratings\n",
    "    \n",
    "    sum_of_squares=sum(pow((df['rating_x'] - df['rating_y']), 2))\n",
    "    return 1/ (1+sum_of_squares)\n",
    "#Checking by passing similar ID, correlation should be 1\n",
    "euclidean_distance(1, 1)\n",
    "    "
   ]
  },
  {
   "cell_type": "code",
   "execution_count": 25,
   "metadata": {},
   "outputs": [
    {
     "data": {
      "text/plain": [
       "1.0"
      ]
     },
     "execution_count": 25,
     "metadata": {},
     "output_type": "execute_result"
    }
   ],
   "source": [
    "#step 10: Pearson correlation Score\n",
    "def pearson_score(person1, person2):\n",
    "    #getting details of person1 and person2 \n",
    "    df_first=ratings.loc[ratings.userId==person1]\n",
    "    df_second=ratings.loc[ratings.userId==person2]\n",
    "    \n",
    "    #find similar rated movie\n",
    "    df=pd.merge(df_first, df_second, how='inner', on='movieId')\n",
    "    n=len(df)\n",
    "    if n==0:\n",
    "        return 0\n",
    "    #adding all ratings\n",
    "    sum1=sum(df['rating_x'])\n",
    "    sum2=sum(df['rating_y'])\n",
    "    \n",
    "    #summing up all squared ratings\n",
    "    sum1_square=sum(pow(df['rating_x'],2))\n",
    "    sum2_square=sum(pow(df['rating_y'],2))\n",
    "    \n",
    "    #sum of product\n",
    "    product_sum=sum(df['rating_x'] * df['rating_y'])\n",
    "    \n",
    "    #implementing pearson score\n",
    "    numerator= product_sum - (sum1 * sum2/n)\n",
    "    denominator=sqrt((sum1_square - pow(sum1, 2)/n) * (sum2_square - pow(sum2, 2)/n))\n",
    "    \n",
    "    if denominator==0: \n",
    "        return 0\n",
    "    r=numerator/denominator\n",
    "    return r\n",
    "#Checking by passing similar ID, correlation should be 1\n",
    "pearson_score(1,1)\n",
    "    \n",
    "\n",
    "    "
   ]
  },
  {
   "cell_type": "code",
   "execution_count": 26,
   "metadata": {},
   "outputs": [
    {
     "data": {
      "text/plain": [
       "[(1.0000000000000027, 177),\n",
       " (1.0000000000000027, 177),\n",
       " (1.0000000000000027, 177)]"
      ]
     },
     "execution_count": 26,
     "metadata": {},
     "output_type": "execute_result"
    }
   ],
   "source": [
    "#step11: Getting result based on pearson score\n",
    "def topMatches(personId, n=5, similarity=pearson_score):\n",
    "    scores=[(similarity(personId, other), other) for other in ratings.loc[ratings['userId']!=personId]['userId']]\n",
    "    #highest score appear at the top\n",
    "    scores.sort()\n",
    "    scores.reverse()\n",
    "    return scores[0:n]\n",
    "topMatches(1, n=3)"
   ]
  },
  {
   "cell_type": "code",
   "execution_count": null,
   "metadata": {},
   "outputs": [
    {
     "name": "stderr",
     "output_type": "stream",
     "text": [
      "C:\\Users\\Sami\\Anaconda3\\lib\\site-packages\\ipykernel_launcher.py:29: RuntimeWarning: invalid value encountered in double_scalars\n"
     ]
    },
    {
     "data": {
      "text/plain": [
       "array(['Toy Story (1995)'], dtype=object)"
      ]
     },
     "execution_count": 37,
     "metadata": {},
     "output_type": "execute_result"
    }
   ],
   "source": [
    "#Gets recommendations for a person by using a weighted average\n",
    "def getRecommendation(personId, similarity=pearson_score):\n",
    "    totals, simSums={}, {}\n",
    "    df_person=ratings.loc[ratings.userId==personId]\n",
    "    #all the user id except personId\n",
    "    for otherId in ratings.loc[ratings['userId']!=personId]['userId']:\n",
    "    \n",
    "    #similarity with otherid\n",
    "        sim=similarity(personId, otherId)\n",
    "    \n",
    "        if sim<=0: \n",
    "            continue\n",
    "        \n",
    "    df_other=ratings.loc[ratings.userId==otherId]\n",
    "    \n",
    "    #movie not seen by personId\n",
    "    movie=df_other[~df_other.isin(df_person).all(1)]\n",
    "    \n",
    "    for movieid, rating in (np.array(movie[['movieId','rating']])):\n",
    "        #similarity score\n",
    "        totals.setdefault(movieid, 0)\n",
    "        totals[movieid]+=rating*sim\n",
    "        \n",
    "        #sum of similarities\n",
    "        simSums.setdefault(movieid, 0)\n",
    "        simSums[movieid]+=sim\n",
    "        \n",
    "        #normalized list\n",
    "        ranking=[(t/simSums[item], item) for item, t in totals.items()]\n",
    "        \n",
    "        #return the sorted list\n",
    "        ranking.sort()\n",
    "        ranking.reverse()\n",
    "        recommendationId=np.array([x[1] for x in ranking])\n",
    "        \n",
    "        return np.array(movies[movies['movieId'].isin(recommendationId)]['title'])[:20]\n",
    "    \n",
    "# Example Recomendation\n",
    "#20 recommended movie for the given UserID\n",
    "# userId from 1 to 671\n",
    "getRecommendation(1)\n",
    "getRecommendation(671)\n",
    "\n",
    "        "
   ]
  },
  {
   "cell_type": "code",
   "execution_count": null,
   "metadata": {
    "collapsed": true
   },
   "outputs": [],
   "source": []
  }
 ],
 "metadata": {
  "kernelspec": {
   "display_name": "Python 3",
   "language": "python",
   "name": "python3"
  },
  "language_info": {
   "codemirror_mode": {
    "name": "ipython",
    "version": 3
   },
   "file_extension": ".py",
   "mimetype": "text/x-python",
   "name": "python",
   "nbconvert_exporter": "python",
   "pygments_lexer": "ipython3",
   "version": "3.6.1"
  }
 },
 "nbformat": 4,
 "nbformat_minor": 2
}
